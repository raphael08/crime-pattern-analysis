{
 "cells": [
  {
   "cell_type": "code",
   "execution_count": 7,
   "metadata": {},
   "outputs": [
    {
     "name": "stdout",
     "output_type": "stream",
     "text": [
      "2001\n",
      "2002\n",
      "2003\n",
      "2004\n",
      "2005\n",
      "2006\n",
      "2007\n",
      "2008\n",
      "2009\n",
      "2010\n",
      "2011\n",
      "2012\n",
      "2016\n",
      "2012\n",
      "2016\n",
      "2015\n",
      "2016\n"
     ]
    }
   ],
   "source": [
    "import os\n",
    "\n",
    "folder_path = \"static\\\\assets\\\\data\"\n",
    "\n",
    "files = []\n",
    "for filename in os.listdir(folder_path):\n",
    "    if os.path.isfile(os.path.join(folder_path, filename)):\n",
    "        files.append(filename)\n",
    "\n",
    "files.sort()  # Sort the list of files alphabetically\n",
    "\n",
    "for filename in files:\n",
    " if filename[-9:-5].isnumeric():\n",
    "    \n",
    "    print(filename[-9:-5])\n"
   ]
  }
 ],
 "metadata": {
  "kernelspec": {
   "display_name": "new",
   "language": "python",
   "name": "python3"
  },
  "language_info": {
   "codemirror_mode": {
    "name": "ipython",
    "version": 3
   },
   "file_extension": ".py",
   "mimetype": "text/x-python",
   "name": "python",
   "nbconvert_exporter": "python",
   "pygments_lexer": "ipython3",
   "version": "3.8.16"
  },
  "orig_nbformat": 4
 },
 "nbformat": 4,
 "nbformat_minor": 2
}
