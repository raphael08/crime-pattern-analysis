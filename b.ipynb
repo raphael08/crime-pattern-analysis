{
 "cells": [
  {
   "cell_type": "code",
   "execution_count": 1,
   "metadata": {},
   "outputs": [
    {
     "name": "stdout",
     "output_type": "stream",
     "text": [
      "Predicted Crime Rate: [80.]\n",
      "Model Accuracy (R-squared score): 1.0\n"
     ]
    },
    {
     "name": "stderr",
     "output_type": "stream",
     "text": [
      "c:\\Users\\Raphael\\anaconda3\\envs\\new\\lib\\site-packages\\sklearn\\base.py:444: UserWarning: X has feature names, but LinearRegression was fitted without feature names\n",
      "  f\"X has feature names, but {self.__class__.__name__} was fitted without\"\n"
     ]
    }
   ],
   "source": [
    "import pandas as pd\n",
    "from sklearn.preprocessing import OneHotEncoder\n",
    "from sklearn.linear_model import LinearRegression\n",
    "from sklearn.metrics import r2_score\n",
    "\n",
    "def predict(state, year, crime):\n",
    "    crime_data = pd.read_excel('static/assets/fulldata/fulldata.xlsx')\n",
    "\n",
    "    # Convert the STATE_UT column to one-hot encoded binary columns\n",
    "    encoder = OneHotEncoder(sparse=False)\n",
    "    state_encoded = encoder.fit_transform(crime_data[['STATE_UT']])\n",
    "    state_labels = encoder.categories_[0]\n",
    "    state_df = pd.DataFrame(state_encoded, columns=[f'STATE_UT_{label}' for label in state_labels])\n",
    "\n",
    "    # Combine the one-hot encoded state columns with the rest of the data\n",
    "    X = pd.concat([state_df, crime_data[['YEAR']]], axis=1, ignore_index=True)\n",
    "    y = crime_data[crime]\n",
    "\n",
    "    # Create a linear regression model and fit it on the data\n",
    "    model = LinearRegression()\n",
    "    model.fit(X, y)\n",
    "\n",
    "    # Create a dataframe with the input values\n",
    "    input_data = pd.DataFrame({'STATE_UT': [state], 'YEAR': [year]})\n",
    "    input_state_encoded = encoder.transform(input_data[['STATE_UT']])\n",
    "    input_state_df = pd.DataFrame(input_state_encoded, columns=[f'STATE_UT_{label}' for label in state_labels])\n",
    "    input_data = pd.concat([input_state_df, input_data[['YEAR']]], axis=1)\n",
    "\n",
    "    # Predict the crime rate for the input values\n",
    "    predicted_crime_rate = model.predict(input_data)\n",
    "\n",
    "    print('Predicted Crime Rate:', predicted_crime_rate)\n",
    "\n",
    "    # Calculate the model accuracy using R-squared score\n",
    "    y_pred = model.predict(X)\n",
    "    accuracy = r2_score(y, y_pred)\n",
    "\n",
    "    print('Model Accuracy (R-squared score):', accuracy)\n",
    "\n",
    "predict('DODOMA',2019,'UNNATURAL_OFFENCE')\n"
   ]
  }
 ],
 "metadata": {
  "kernelspec": {
   "display_name": "new",
   "language": "python",
   "name": "python3"
  },
  "language_info": {
   "codemirror_mode": {
    "name": "ipython",
    "version": 3
   },
   "file_extension": ".py",
   "mimetype": "text/x-python",
   "name": "python",
   "nbconvert_exporter": "python",
   "pygments_lexer": "ipython3",
   "version": "3.7.16"
  },
  "orig_nbformat": 4
 },
 "nbformat": 4,
 "nbformat_minor": 2
}
